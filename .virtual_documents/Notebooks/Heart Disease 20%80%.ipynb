import pandas as pd



df = pd.read_csv('../Data/heart_disease_uci.csv')



df.columns


df.head()


df.shape





df.isna().sum()








df["target"] = (df["num"] > 0).astype(int)
df = df.drop(columns=["num"])



df = df.drop(columns=["id", "dataset", "slope", "ca", "thal"])



num_cols = ["trestbps", "chol", "thalach", "oldpeak"]
cat_cols = ["fbs", "exang", "restecg"]

median_df = df.median(numeric_only=True)
median_df = pd.DataFrame(median_df)
median_df


mode_df = pd.DataFrame(df.mode(numeric_only=False).iloc[0])
mode_df


df["trestbps"].fillna(df["trestbps"].median(), inplace=True)
df["chol"].fillna(df["chol"].median(), inplace=True)
df["thalch"].fillna(df["thalch"].median(), inplace=True)
df["oldpeak"].fillna(df["oldpeak"].median(), inplace=True)
df["fbs"].fillna(df["fbs"].mode()[0], inplace=True)
df["exang"].fillna(df["exang"].mode()[0], inplace=True)
df["restecg"].fillna(df["restecg"].mode()[0], inplace=True)



df.isna().sum()





df["restecg"].value_counts()



df["sex"] = df["sex"].map({"Male": 1, "Female": 0})
df["fbs"] = df["fbs"].map({True: 1, False: 0})
df["exang"] = df["exang"].map({True: 1, False: 0})

df = pd.get_dummies(df, columns=["cp", "restecg"], drop_first=True)

df.columns


df.head


df["cp_atypical angina"] = df["cp_atypical angina"].map({True: 1, False: 0})
df["cp_non-anginal"] = df["cp_non-anginal"].map({True: 1, False: 0})
df["cp_typical angina"] = df["cp_typical angina"].map({True: 1, False: 0})
df["restecg_normal"] = df["restecg_normal"].map({True: 1, False: 0})
df["restecg_st-t abnormality"] = df["restecg_st-t abnormality"].map({True: 1, False: 0})

df.head





X = df.drop("target", axis=1)
y = df["target"]



from sklearn.model_selection import train_test_split

X_train, X_test, y_train, y_test = train_test_split(
    X, y, test_size=0.2, random_state=42, stratify=y
)



from sklearn.linear_model import LogisticRegression


log_reg = LogisticRegression(max_iter=1000)
log_reg.fit(X_train, y_train)



# To Save My Model into the Local:
import joblib

joblib.dump(log_reg, "logistic_model.pkl")





from sklearn.metrics import accuracy_score, confusion_matrix, classification_report

y_pred = log_reg.predict(X_test)

print("Accuracy:", accuracy_score(y_test, y_pred))
print("Confusion Matrix:\n", confusion_matrix(y_test, y_pred))
print("Classification Report:\n", classification_report(y_test, y_pred))



feature_importance = pd.DataFrame({
    'Feature': X_train.columns,
    'Coefficient': log_reg.coef_[0]
}).sort_values(by='Coefficient', ascending=False)

print(feature_importance)



y_prob = log_reg.predict_proba(X_test)[:, 1] 
y_pred_new = (y_prob >= 0.4).astype(int)     



from sklearn.metrics import confusion_matrix, classification_report, accuracy_score

print("Accuracy:", accuracy_score(y_test, y_pred_new))
print("Confusion Matrix:\n", confusion_matrix(y_test, y_pred_new))
print("Classification Report:\n", classification_report(y_test, y_pred_new))



from sklearn.metrics import roc_curve, roc_auc_score
import matplotlib.pyplot as plt

fpr, tpr, thresholds = roc_curve(y_test, y_prob)
plt.plot(fpr, tpr, label=f"AUC = {roc_auc_score(y_test, y_prob):.2f}")
plt.xlabel("False Positive Rate")
plt.ylabel("True Positive Rate")
plt.title("ROC Curve")
plt.legend()
plt.show()







