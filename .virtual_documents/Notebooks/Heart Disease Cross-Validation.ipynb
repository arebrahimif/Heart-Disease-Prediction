import pandas as pd


df = pd.read_csv("..\\Data\\heart_disease_uci.csv")


df.columns


df = df.drop(columns=['id', 'dataset'])


df.head(3)


df.isna().sum()


df = df.drop(columns=['slope','ca','thal'])


df.columns


(df == 0).sum()



df.fillna({"trestbps":df["trestbps"].median()}, inplace=True)



df.fillna({"chol":df["chol"].mean()}, inplace=True)
df.fillna({"thalch":df["thalch"].mean()}, inplace=True)
df.fillna({"oldpeak":df["oldpeak"].mean()}, inplace=True)
df.fillna({"fbs":df["fbs"].mode()[0]}, inplace=True)
df.fillna({"exang":df["exang"].mode()[0]}, inplace=True)
df.fillna({"restecg":df["restecg"].mode()[0]}, inplace=True)


df.isna().sum()


(df == 0).sum()



import numpy as np

df.replace({"trestbps":0}, {"trestbps":np.nan}, inplace=True)
df.replace({"chol":0}, {"chol":np.nan}, inplace=True)


df.fillna({"trestbps": df["trestbps"].median()}, inplace=True)
df.fillna({"chol": df["chol"].mean()}, inplace=True)


df["sex"] = df["sex"].map({'Male':1, 'Female':0})
df["fbs"] = df["fbs"].map({True:1, False:0})
df["exang"] = df["exang"].map({True:1, False:0})
df = pd.get_dummies(df, columns=['cp', 'restecg'], drop_first=True)


df.head(3)


df["cp_atypical angina"] = df["cp_atypical angina"].map({True:1, False:0})
df["cp_non-anginal"] = df["cp_non-anginal"].map({True:1, False:0})
df["cp_typical angina"] = df["cp_typical angina"].map({True:1, False:0})
df["restecg_normal"] = df["restecg_normal"].map({True:1, False:0})
df["restecg_st-t abnormality"] = df["restecg_st-t abnormality"].map({True:1, False:0})


df["target"] = (df["num"] > 0).astype(int)
df = df.drop(columns=["num"])



df.head(3)





from sklearn.model_selection import cross_val_score, StratifiedKFold
from sklearn.linear_model import LogisticRegression



log_reg = LogisticRegression(max_iter=1000)



X = df.drop("target", axis=1)
y=pd.DataFrame()
y["target"] = df["target"]



cv = StratifiedKFold(n_splits=5, shuffle=True, random_state=42)

scores = cross_val_score(log_reg, X, y, cv=cv, scoring="accuracy")

print("Accuracies for each fold:", scores)
print("Mean accuracy:", np.mean(scores))







