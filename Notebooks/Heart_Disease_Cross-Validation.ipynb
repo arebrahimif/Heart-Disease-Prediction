{
 "cells": [
  {
   "cell_type": "code",
   "execution_count": 1,
   "id": "aa4a992d-5149-42a8-be99-eaf5ce5e1a87",
   "metadata": {},
   "outputs": [],
   "source": [
    "import pandas as pd"
   ]
  },
  {
   "cell_type": "code",
   "execution_count": 2,
   "id": "b33cbb09-0a27-462e-a8a1-67da038c1843",
   "metadata": {},
   "outputs": [],
   "source": [
    "df = pd.read_csv(\"..\\\\Data\\\\heart_disease_uci.csv\")"
   ]
  },
  {
   "cell_type": "code",
   "execution_count": 3,
   "id": "3a5a7df5-0f0a-4272-9144-113aa5d49749",
   "metadata": {},
   "outputs": [
    {
     "data": {
      "text/plain": [
       "Index(['id', 'age', 'sex', 'dataset', 'cp', 'trestbps', 'chol', 'fbs',\n",
       "       'restecg', 'thalch', 'exang', 'oldpeak', 'slope', 'ca', 'thal', 'num'],\n",
       "      dtype='object')"
      ]
     },
     "execution_count": 3,
     "metadata": {},
     "output_type": "execute_result"
    }
   ],
   "source": [
    "df.columns"
   ]
  },
  {
   "cell_type": "code",
   "execution_count": 4,
   "id": "b158cb47-0c48-46e9-98b9-f667043d95db",
   "metadata": {
    "scrolled": true
   },
   "outputs": [],
   "source": [
    "df = df.drop(columns=['id', 'dataset'])"
   ]
  },
  {
   "cell_type": "code",
   "execution_count": 5,
   "id": "3aad17e5-e254-4a36-9122-b89f84ae00ee",
   "metadata": {},
   "outputs": [
    {
     "data": {
      "text/html": [
       "<div>\n",
       "<style scoped>\n",
       "    .dataframe tbody tr th:only-of-type {\n",
       "        vertical-align: middle;\n",
       "    }\n",
       "\n",
       "    .dataframe tbody tr th {\n",
       "        vertical-align: top;\n",
       "    }\n",
       "\n",
       "    .dataframe thead th {\n",
       "        text-align: right;\n",
       "    }\n",
       "</style>\n",
       "<table border=\"1\" class=\"dataframe\">\n",
       "  <thead>\n",
       "    <tr style=\"text-align: right;\">\n",
       "      <th></th>\n",
       "      <th>age</th>\n",
       "      <th>sex</th>\n",
       "      <th>cp</th>\n",
       "      <th>trestbps</th>\n",
       "      <th>chol</th>\n",
       "      <th>fbs</th>\n",
       "      <th>restecg</th>\n",
       "      <th>thalch</th>\n",
       "      <th>exang</th>\n",
       "      <th>oldpeak</th>\n",
       "      <th>slope</th>\n",
       "      <th>ca</th>\n",
       "      <th>thal</th>\n",
       "      <th>num</th>\n",
       "    </tr>\n",
       "  </thead>\n",
       "  <tbody>\n",
       "    <tr>\n",
       "      <th>0</th>\n",
       "      <td>63</td>\n",
       "      <td>Male</td>\n",
       "      <td>typical angina</td>\n",
       "      <td>145.0</td>\n",
       "      <td>233.0</td>\n",
       "      <td>True</td>\n",
       "      <td>lv hypertrophy</td>\n",
       "      <td>150.0</td>\n",
       "      <td>False</td>\n",
       "      <td>2.3</td>\n",
       "      <td>downsloping</td>\n",
       "      <td>0.0</td>\n",
       "      <td>fixed defect</td>\n",
       "      <td>0</td>\n",
       "    </tr>\n",
       "    <tr>\n",
       "      <th>1</th>\n",
       "      <td>67</td>\n",
       "      <td>Male</td>\n",
       "      <td>asymptomatic</td>\n",
       "      <td>160.0</td>\n",
       "      <td>286.0</td>\n",
       "      <td>False</td>\n",
       "      <td>lv hypertrophy</td>\n",
       "      <td>108.0</td>\n",
       "      <td>True</td>\n",
       "      <td>1.5</td>\n",
       "      <td>flat</td>\n",
       "      <td>3.0</td>\n",
       "      <td>normal</td>\n",
       "      <td>2</td>\n",
       "    </tr>\n",
       "    <tr>\n",
       "      <th>2</th>\n",
       "      <td>67</td>\n",
       "      <td>Male</td>\n",
       "      <td>asymptomatic</td>\n",
       "      <td>120.0</td>\n",
       "      <td>229.0</td>\n",
       "      <td>False</td>\n",
       "      <td>lv hypertrophy</td>\n",
       "      <td>129.0</td>\n",
       "      <td>True</td>\n",
       "      <td>2.6</td>\n",
       "      <td>flat</td>\n",
       "      <td>2.0</td>\n",
       "      <td>reversable defect</td>\n",
       "      <td>1</td>\n",
       "    </tr>\n",
       "  </tbody>\n",
       "</table>\n",
       "</div>"
      ],
      "text/plain": [
       "   age   sex              cp  trestbps   chol    fbs         restecg  thalch  \\\n",
       "0   63  Male  typical angina     145.0  233.0   True  lv hypertrophy   150.0   \n",
       "1   67  Male    asymptomatic     160.0  286.0  False  lv hypertrophy   108.0   \n",
       "2   67  Male    asymptomatic     120.0  229.0  False  lv hypertrophy   129.0   \n",
       "\n",
       "   exang  oldpeak        slope   ca               thal  num  \n",
       "0  False      2.3  downsloping  0.0       fixed defect    0  \n",
       "1   True      1.5         flat  3.0             normal    2  \n",
       "2   True      2.6         flat  2.0  reversable defect    1  "
      ]
     },
     "execution_count": 5,
     "metadata": {},
     "output_type": "execute_result"
    }
   ],
   "source": [
    "df.head(3)"
   ]
  },
  {
   "cell_type": "code",
   "execution_count": 6,
   "id": "bd0319ab-0b7a-4af7-b4f9-2c68fe9b82f3",
   "metadata": {},
   "outputs": [
    {
     "data": {
      "text/plain": [
       "age           0\n",
       "sex           0\n",
       "cp            0\n",
       "trestbps     59\n",
       "chol         30\n",
       "fbs          90\n",
       "restecg       2\n",
       "thalch       55\n",
       "exang        55\n",
       "oldpeak      62\n",
       "slope       309\n",
       "ca          611\n",
       "thal        486\n",
       "num           0\n",
       "dtype: int64"
      ]
     },
     "execution_count": 6,
     "metadata": {},
     "output_type": "execute_result"
    }
   ],
   "source": [
    "df.isna().sum()"
   ]
  },
  {
   "cell_type": "code",
   "execution_count": 7,
   "id": "96f9a1df-dc7b-48f8-8985-d69518135d77",
   "metadata": {},
   "outputs": [],
   "source": [
    "df = df.drop(columns=['slope','ca','thal'])"
   ]
  },
  {
   "cell_type": "code",
   "execution_count": 8,
   "id": "e6b30db4-64b1-408f-b6ce-6dfa4b3f6a7e",
   "metadata": {},
   "outputs": [
    {
     "data": {
      "text/plain": [
       "Index(['age', 'sex', 'cp', 'trestbps', 'chol', 'fbs', 'restecg', 'thalch',\n",
       "       'exang', 'oldpeak', 'num'],\n",
       "      dtype='object')"
      ]
     },
     "execution_count": 8,
     "metadata": {},
     "output_type": "execute_result"
    }
   ],
   "source": [
    "df.columns"
   ]
  },
  {
   "cell_type": "code",
   "execution_count": 9,
   "id": "b7d01da6-98e5-45a5-aa0d-2d02f4896353",
   "metadata": {},
   "outputs": [
    {
     "data": {
      "text/plain": [
       "age           0\n",
       "sex           0\n",
       "cp            0\n",
       "trestbps      1\n",
       "chol        172\n",
       "fbs         692\n",
       "restecg       0\n",
       "thalch        0\n",
       "exang       528\n",
       "oldpeak     370\n",
       "num         411\n",
       "dtype: int64"
      ]
     },
     "execution_count": 9,
     "metadata": {},
     "output_type": "execute_result"
    }
   ],
   "source": [
    "(df == 0).sum()\n"
   ]
  },
  {
   "cell_type": "code",
   "execution_count": 10,
   "id": "0ca0dec2-f4e2-4089-9e84-13394fc25e95",
   "metadata": {},
   "outputs": [],
   "source": [
    "df.fillna({\"trestbps\":df[\"trestbps\"].median()}, inplace=True)\n"
   ]
  },
  {
   "cell_type": "code",
   "execution_count": 11,
   "id": "97fddb57-3406-4d29-b273-99aff26f41f3",
   "metadata": {},
   "outputs": [
    {
     "name": "stderr",
     "output_type": "stream",
     "text": [
      "C:\\Users\\arebr\\AppData\\Local\\Temp\\ipykernel_39300\\207208696.py:4: FutureWarning: Downcasting object dtype arrays on .fillna, .ffill, .bfill is deprecated and will change in a future version. Call result.infer_objects(copy=False) instead. To opt-in to the future behavior, set `pd.set_option('future.no_silent_downcasting', True)`\n",
      "  df.fillna({\"fbs\":df[\"fbs\"].mode()[0]}, inplace=True)\n",
      "C:\\Users\\arebr\\AppData\\Local\\Temp\\ipykernel_39300\\207208696.py:5: FutureWarning: Downcasting object dtype arrays on .fillna, .ffill, .bfill is deprecated and will change in a future version. Call result.infer_objects(copy=False) instead. To opt-in to the future behavior, set `pd.set_option('future.no_silent_downcasting', True)`\n",
      "  df.fillna({\"exang\":df[\"exang\"].mode()[0]}, inplace=True)\n"
     ]
    }
   ],
   "source": [
    "df.fillna({\"chol\":df[\"chol\"].mean()}, inplace=True)\n",
    "df.fillna({\"thalch\":df[\"thalch\"].mean()}, inplace=True)\n",
    "df.fillna({\"oldpeak\":df[\"oldpeak\"].mean()}, inplace=True)\n",
    "df.fillna({\"fbs\":df[\"fbs\"].mode()[0]}, inplace=True)\n",
    "df.fillna({\"exang\":df[\"exang\"].mode()[0]}, inplace=True)\n",
    "df.fillna({\"restecg\":df[\"restecg\"].mode()[0]}, inplace=True)"
   ]
  },
  {
   "cell_type": "code",
   "execution_count": 12,
   "id": "db6ed654-622a-4719-813e-ff0d0b65f267",
   "metadata": {},
   "outputs": [
    {
     "data": {
      "text/plain": [
       "age         0\n",
       "sex         0\n",
       "cp          0\n",
       "trestbps    0\n",
       "chol        0\n",
       "fbs         0\n",
       "restecg     0\n",
       "thalch      0\n",
       "exang       0\n",
       "oldpeak     0\n",
       "num         0\n",
       "dtype: int64"
      ]
     },
     "execution_count": 12,
     "metadata": {},
     "output_type": "execute_result"
    }
   ],
   "source": [
    "df.isna().sum()"
   ]
  },
  {
   "cell_type": "code",
   "execution_count": 13,
   "id": "35e6f60b-8ebf-498c-873c-d56a38fc7d0f",
   "metadata": {},
   "outputs": [
    {
     "data": {
      "text/plain": [
       "age           0\n",
       "sex           0\n",
       "cp            0\n",
       "trestbps      1\n",
       "chol        172\n",
       "fbs         782\n",
       "restecg       0\n",
       "thalch        0\n",
       "exang       583\n",
       "oldpeak     370\n",
       "num         411\n",
       "dtype: int64"
      ]
     },
     "execution_count": 13,
     "metadata": {},
     "output_type": "execute_result"
    }
   ],
   "source": [
    "(df == 0).sum()\n"
   ]
  },
  {
   "cell_type": "code",
   "execution_count": 14,
   "id": "fb4416a4-dc88-4789-8360-b10678885706",
   "metadata": {},
   "outputs": [],
   "source": [
    "import numpy as np\n",
    "\n",
    "df.replace({\"trestbps\":0}, {\"trestbps\":np.nan}, inplace=True)\n",
    "df.replace({\"chol\":0}, {\"chol\":np.nan}, inplace=True)"
   ]
  },
  {
   "cell_type": "code",
   "execution_count": 15,
   "id": "7448f1f0-c73c-4e48-b015-08bd4aa55528",
   "metadata": {},
   "outputs": [],
   "source": [
    "df.fillna({\"trestbps\": df[\"trestbps\"].median()}, inplace=True)\n",
    "df.fillna({\"chol\": df[\"chol\"].mean()}, inplace=True)"
   ]
  },
  {
   "cell_type": "code",
   "execution_count": 16,
   "id": "4eae221d-be15-483c-bd4c-3a139db98d92",
   "metadata": {},
   "outputs": [],
   "source": [
    "df[\"sex\"] = df[\"sex\"].map({'Male':1, 'Female':0})\n",
    "df[\"fbs\"] = df[\"fbs\"].map({True:1, False:0})\n",
    "df[\"exang\"] = df[\"exang\"].map({True:1, False:0})\n",
    "df = pd.get_dummies(df, columns=['cp', 'restecg'], drop_first=True)"
   ]
  },
  {
   "cell_type": "code",
   "execution_count": 17,
   "id": "2fb5ec8e-d220-43ac-aed7-3f034fd5ee08",
   "metadata": {},
   "outputs": [
    {
     "data": {
      "text/html": [
       "<div>\n",
       "<style scoped>\n",
       "    .dataframe tbody tr th:only-of-type {\n",
       "        vertical-align: middle;\n",
       "    }\n",
       "\n",
       "    .dataframe tbody tr th {\n",
       "        vertical-align: top;\n",
       "    }\n",
       "\n",
       "    .dataframe thead th {\n",
       "        text-align: right;\n",
       "    }\n",
       "</style>\n",
       "<table border=\"1\" class=\"dataframe\">\n",
       "  <thead>\n",
       "    <tr style=\"text-align: right;\">\n",
       "      <th></th>\n",
       "      <th>age</th>\n",
       "      <th>sex</th>\n",
       "      <th>trestbps</th>\n",
       "      <th>chol</th>\n",
       "      <th>fbs</th>\n",
       "      <th>thalch</th>\n",
       "      <th>exang</th>\n",
       "      <th>oldpeak</th>\n",
       "      <th>num</th>\n",
       "      <th>cp_atypical angina</th>\n",
       "      <th>cp_non-anginal</th>\n",
       "      <th>cp_typical angina</th>\n",
       "      <th>restecg_normal</th>\n",
       "      <th>restecg_st-t abnormality</th>\n",
       "    </tr>\n",
       "  </thead>\n",
       "  <tbody>\n",
       "    <tr>\n",
       "      <th>0</th>\n",
       "      <td>63</td>\n",
       "      <td>1</td>\n",
       "      <td>145.0</td>\n",
       "      <td>233.0</td>\n",
       "      <td>1</td>\n",
       "      <td>150.0</td>\n",
       "      <td>0</td>\n",
       "      <td>2.3</td>\n",
       "      <td>0</td>\n",
       "      <td>False</td>\n",
       "      <td>False</td>\n",
       "      <td>True</td>\n",
       "      <td>False</td>\n",
       "      <td>False</td>\n",
       "    </tr>\n",
       "    <tr>\n",
       "      <th>1</th>\n",
       "      <td>67</td>\n",
       "      <td>1</td>\n",
       "      <td>160.0</td>\n",
       "      <td>286.0</td>\n",
       "      <td>0</td>\n",
       "      <td>108.0</td>\n",
       "      <td>1</td>\n",
       "      <td>1.5</td>\n",
       "      <td>2</td>\n",
       "      <td>False</td>\n",
       "      <td>False</td>\n",
       "      <td>False</td>\n",
       "      <td>False</td>\n",
       "      <td>False</td>\n",
       "    </tr>\n",
       "    <tr>\n",
       "      <th>2</th>\n",
       "      <td>67</td>\n",
       "      <td>1</td>\n",
       "      <td>120.0</td>\n",
       "      <td>229.0</td>\n",
       "      <td>0</td>\n",
       "      <td>129.0</td>\n",
       "      <td>1</td>\n",
       "      <td>2.6</td>\n",
       "      <td>1</td>\n",
       "      <td>False</td>\n",
       "      <td>False</td>\n",
       "      <td>False</td>\n",
       "      <td>False</td>\n",
       "      <td>False</td>\n",
       "    </tr>\n",
       "  </tbody>\n",
       "</table>\n",
       "</div>"
      ],
      "text/plain": [
       "   age  sex  trestbps   chol  fbs  thalch  exang  oldpeak  num  \\\n",
       "0   63    1     145.0  233.0    1   150.0      0      2.3    0   \n",
       "1   67    1     160.0  286.0    0   108.0      1      1.5    2   \n",
       "2   67    1     120.0  229.0    0   129.0      1      2.6    1   \n",
       "\n",
       "   cp_atypical angina  cp_non-anginal  cp_typical angina  restecg_normal  \\\n",
       "0               False           False               True           False   \n",
       "1               False           False              False           False   \n",
       "2               False           False              False           False   \n",
       "\n",
       "   restecg_st-t abnormality  \n",
       "0                     False  \n",
       "1                     False  \n",
       "2                     False  "
      ]
     },
     "execution_count": 17,
     "metadata": {},
     "output_type": "execute_result"
    }
   ],
   "source": [
    "df.head(3)"
   ]
  },
  {
   "cell_type": "code",
   "execution_count": 18,
   "id": "5a58232f-9f3e-40f1-bc1d-9a71425e3128",
   "metadata": {},
   "outputs": [],
   "source": [
    "df[\"cp_atypical angina\"] = df[\"cp_atypical angina\"].map({True:1, False:0})\n",
    "df[\"cp_non-anginal\"] = df[\"cp_non-anginal\"].map({True:1, False:0})\n",
    "df[\"cp_typical angina\"] = df[\"cp_typical angina\"].map({True:1, False:0})\n",
    "df[\"restecg_normal\"] = df[\"restecg_normal\"].map({True:1, False:0})\n",
    "df[\"restecg_st-t abnormality\"] = df[\"restecg_st-t abnormality\"].map({True:1, False:0})"
   ]
  },
  {
   "cell_type": "code",
   "execution_count": 19,
   "id": "4b2144c5-a8f9-44f5-a29f-94e9ae5c6f37",
   "metadata": {},
   "outputs": [],
   "source": [
    "df[\"target\"] = (df[\"num\"] > 0).astype(int)\n",
    "df = df.drop(columns=[\"num\"])\n"
   ]
  },
  {
   "cell_type": "code",
   "execution_count": 20,
   "id": "ab611ede-d517-479e-85e8-16a2cbb78a29",
   "metadata": {},
   "outputs": [
    {
     "data": {
      "text/html": [
       "<div>\n",
       "<style scoped>\n",
       "    .dataframe tbody tr th:only-of-type {\n",
       "        vertical-align: middle;\n",
       "    }\n",
       "\n",
       "    .dataframe tbody tr th {\n",
       "        vertical-align: top;\n",
       "    }\n",
       "\n",
       "    .dataframe thead th {\n",
       "        text-align: right;\n",
       "    }\n",
       "</style>\n",
       "<table border=\"1\" class=\"dataframe\">\n",
       "  <thead>\n",
       "    <tr style=\"text-align: right;\">\n",
       "      <th></th>\n",
       "      <th>age</th>\n",
       "      <th>sex</th>\n",
       "      <th>trestbps</th>\n",
       "      <th>chol</th>\n",
       "      <th>fbs</th>\n",
       "      <th>thalch</th>\n",
       "      <th>exang</th>\n",
       "      <th>oldpeak</th>\n",
       "      <th>cp_atypical angina</th>\n",
       "      <th>cp_non-anginal</th>\n",
       "      <th>cp_typical angina</th>\n",
       "      <th>restecg_normal</th>\n",
       "      <th>restecg_st-t abnormality</th>\n",
       "      <th>target</th>\n",
       "    </tr>\n",
       "  </thead>\n",
       "  <tbody>\n",
       "    <tr>\n",
       "      <th>0</th>\n",
       "      <td>63</td>\n",
       "      <td>1</td>\n",
       "      <td>145.0</td>\n",
       "      <td>233.0</td>\n",
       "      <td>1</td>\n",
       "      <td>150.0</td>\n",
       "      <td>0</td>\n",
       "      <td>2.3</td>\n",
       "      <td>0</td>\n",
       "      <td>0</td>\n",
       "      <td>1</td>\n",
       "      <td>0</td>\n",
       "      <td>0</td>\n",
       "      <td>0</td>\n",
       "    </tr>\n",
       "    <tr>\n",
       "      <th>1</th>\n",
       "      <td>67</td>\n",
       "      <td>1</td>\n",
       "      <td>160.0</td>\n",
       "      <td>286.0</td>\n",
       "      <td>0</td>\n",
       "      <td>108.0</td>\n",
       "      <td>1</td>\n",
       "      <td>1.5</td>\n",
       "      <td>0</td>\n",
       "      <td>0</td>\n",
       "      <td>0</td>\n",
       "      <td>0</td>\n",
       "      <td>0</td>\n",
       "      <td>1</td>\n",
       "    </tr>\n",
       "    <tr>\n",
       "      <th>2</th>\n",
       "      <td>67</td>\n",
       "      <td>1</td>\n",
       "      <td>120.0</td>\n",
       "      <td>229.0</td>\n",
       "      <td>0</td>\n",
       "      <td>129.0</td>\n",
       "      <td>1</td>\n",
       "      <td>2.6</td>\n",
       "      <td>0</td>\n",
       "      <td>0</td>\n",
       "      <td>0</td>\n",
       "      <td>0</td>\n",
       "      <td>0</td>\n",
       "      <td>1</td>\n",
       "    </tr>\n",
       "  </tbody>\n",
       "</table>\n",
       "</div>"
      ],
      "text/plain": [
       "   age  sex  trestbps   chol  fbs  thalch  exang  oldpeak  cp_atypical angina  \\\n",
       "0   63    1     145.0  233.0    1   150.0      0      2.3                   0   \n",
       "1   67    1     160.0  286.0    0   108.0      1      1.5                   0   \n",
       "2   67    1     120.0  229.0    0   129.0      1      2.6                   0   \n",
       "\n",
       "   cp_non-anginal  cp_typical angina  restecg_normal  \\\n",
       "0               0                  1               0   \n",
       "1               0                  0               0   \n",
       "2               0                  0               0   \n",
       "\n",
       "   restecg_st-t abnormality  target  \n",
       "0                         0       0  \n",
       "1                         0       1  \n",
       "2                         0       1  "
      ]
     },
     "execution_count": 20,
     "metadata": {},
     "output_type": "execute_result"
    }
   ],
   "source": [
    "df.head(3)"
   ]
  },
  {
   "cell_type": "markdown",
   "id": "5f026a6e-5cc3-4bd7-9793-7b67fc7cdf16",
   "metadata": {},
   "source": [
    "## Now, we move into the Modeling.\n",
    "### Since our dataset is small, we are gonna use Cross-Validation approach to train our model."
   ]
  },
  {
   "cell_type": "code",
   "execution_count": 21,
   "id": "17fbc57c-8f70-43a2-8fe4-e3eab0bf15a3",
   "metadata": {},
   "outputs": [],
   "source": [
    "from sklearn.model_selection import cross_val_score, StratifiedKFold\n",
    "from sklearn.linear_model import LogisticRegression\n"
   ]
  },
  {
   "cell_type": "code",
   "execution_count": 22,
   "id": "606f7b99-00c8-40c4-82e7-d6f55ccf6ba5",
   "metadata": {},
   "outputs": [],
   "source": [
    "log_reg = LogisticRegression(max_iter=1000)\n"
   ]
  },
  {
   "cell_type": "code",
   "execution_count": 23,
   "id": "a9532220-fa69-4935-b7c2-ccbba9f563a5",
   "metadata": {},
   "outputs": [],
   "source": [
    "X = df.drop(\"target\", axis=1)\n",
    "y=pd.DataFrame()\n",
    "y[\"target\"] = df[\"target\"]\n"
   ]
  },
  {
   "cell_type": "code",
   "execution_count": 24,
   "id": "93436b37-dc5f-4037-9cad-6430febb38a0",
   "metadata": {},
   "outputs": [
    {
     "name": "stderr",
     "output_type": "stream",
     "text": [
      "D:\\Projects\\Data Science Portfolio - Summer2025\\Heart-Disease\\.venv\\Lib\\site-packages\\sklearn\\utils\\validation.py:1406: DataConversionWarning: A column-vector y was passed when a 1d array was expected. Please change the shape of y to (n_samples, ), for example using ravel().\n",
      "  y = column_or_1d(y, warn=True)\n",
      "D:\\Projects\\Data Science Portfolio - Summer2025\\Heart-Disease\\.venv\\Lib\\site-packages\\sklearn\\utils\\validation.py:1406: DataConversionWarning: A column-vector y was passed when a 1d array was expected. Please change the shape of y to (n_samples, ), for example using ravel().\n",
      "  y = column_or_1d(y, warn=True)\n",
      "D:\\Projects\\Data Science Portfolio - Summer2025\\Heart-Disease\\.venv\\Lib\\site-packages\\sklearn\\utils\\validation.py:1406: DataConversionWarning: A column-vector y was passed when a 1d array was expected. Please change the shape of y to (n_samples, ), for example using ravel().\n",
      "  y = column_or_1d(y, warn=True)\n",
      "D:\\Projects\\Data Science Portfolio - Summer2025\\Heart-Disease\\.venv\\Lib\\site-packages\\sklearn\\utils\\validation.py:1406: DataConversionWarning: A column-vector y was passed when a 1d array was expected. Please change the shape of y to (n_samples, ), for example using ravel().\n",
      "  y = column_or_1d(y, warn=True)\n"
     ]
    },
    {
     "name": "stdout",
     "output_type": "stream",
     "text": [
      "Accuracies for each fold: [0.80434783 0.81521739 0.78804348 0.78804348 0.79891304]\n",
      "Mean accuracy: 0.7989130434782609\n"
     ]
    },
    {
     "name": "stderr",
     "output_type": "stream",
     "text": [
      "D:\\Projects\\Data Science Portfolio - Summer2025\\Heart-Disease\\.venv\\Lib\\site-packages\\sklearn\\utils\\validation.py:1406: DataConversionWarning: A column-vector y was passed when a 1d array was expected. Please change the shape of y to (n_samples, ), for example using ravel().\n",
      "  y = column_or_1d(y, warn=True)\n"
     ]
    }
   ],
   "source": [
    "cv = StratifiedKFold(n_splits=5, shuffle=True, random_state=42)\n",
    "\n",
    "scores = cross_val_score(log_reg, X, y, cv=cv, scoring=\"accuracy\")\n",
    "\n",
    "print(\"Accuracies for each fold:\", scores)\n",
    "print(\"Mean accuracy:\", np.mean(scores))\n"
   ]
  },
  {
   "cell_type": "markdown",
   "id": "5546c787-06b4-4141-8985-6c1a33917114",
   "metadata": {},
   "source": [
    "# Conclusion\n",
    "**Using a simple 80/20 train-test split, our Logistic Regression model achieved a relatively high accuracy (~82%). However, this result may be optimistic, since it depends heavily on how the dataset was divided. A single test set cannot fully capture how the model would generalize to unseen data, and the accuracy can vary if the split changes.**\n",
    "\n",
    "**In contrast, applying 5-fold cross-validation produced a slightly lower mean accuracy (~79%), but this value is more reliable. Cross-validation evaluates the model across multiple train-test splits, ensuring that every data point is used for both training and testing. While the score is lower, it offers a more realistic estimate of generalization performance.**"
   ]
  },
  {
   "cell_type": "code",
   "execution_count": null,
   "id": "df77a1e2-45cd-49f0-94d4-f21063114c0d",
   "metadata": {},
   "outputs": [],
   "source": []
  }
 ],
 "metadata": {
  "kernelspec": {
   "display_name": "Python 3 (ipykernel)",
   "language": "python",
   "name": "python3"
  },
  "language_info": {
   "codemirror_mode": {
    "name": "ipython",
    "version": 3
   },
   "file_extension": ".py",
   "mimetype": "text/x-python",
   "name": "python",
   "nbconvert_exporter": "python",
   "pygments_lexer": "ipython3",
   "version": "3.12.1"
  }
 },
 "nbformat": 4,
 "nbformat_minor": 5
}
